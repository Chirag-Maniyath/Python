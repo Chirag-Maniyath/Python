{
  "nbformat": 4,
  "nbformat_minor": 0,
  "metadata": {
    "colab": {
      "provenance": []
    },
    "kernelspec": {
      "name": "python3",
      "display_name": "Python 3"
    },
    "language_info": {
      "name": "python"
    }
  },
  "cells": [
    {
      "cell_type": "code",
      "execution_count": null,
      "metadata": {
        "id": "pU90Q099pHdq",
        "colab": {
          "base_uri": "https://localhost:8080/"
        },
        "outputId": "2c1888eb-19c2-4784-ff84-38b65e64328e"
      },
      "outputs": [
        {
          "output_type": "stream",
          "name": "stdout",
          "text": [
            "enter first number4\n",
            "enter second number3\n",
            "7\n",
            "<class 'str'>\n"
          ]
        }
      ],
      "source": [
        "# take input from users and store them in a variable\n",
        "fnum = input('enter first number')\n",
        "snum = input('enter second number')\n",
        "# add the 2 variables\n",
        "result = int(fnum) + int(snum)# print the result\n",
        "print(result)\n",
        "print(type(fnum))"
      ]
    },
    {
      "cell_type": "markdown",
      "source": [
        "*fnum remained a string because no changes were made in fnum rather*\n",
        "\n",
        "**Result was given input WITH fnum AS INT**\n",
        "\n",
        "next we will transform both variables into int from **start**"
      ],
      "metadata": {
        "id": "vK0Vo1nEzyCN"
      }
    },
    {
      "cell_type": "code",
      "source": [
        "# take input from users and store them in a variable\n",
        "fnum = int(input('enter first number'))\n",
        "snum = int(input('enter second number'))\n",
        "#print(type(fnum),type(snum))\n",
        "# add the 2 variables\n",
        "result = int(fnum) + int(snum)\n",
        "# print the result\n",
        "print(result)\n",
        "print(type(fnum))"
      ],
      "metadata": {
        "colab": {
          "base_uri": "https://localhost:8080/"
        },
        "id": "-PnsFHakzdtq",
        "outputId": "aa125163-58a4-481c-86a3-0b9af1222f36"
      },
      "execution_count": null,
      "outputs": [
        {
          "output_type": "stream",
          "name": "stdout",
          "text": [
            "enter first number4\n",
            "enter second number3\n",
            "7\n",
            "<class 'int'>\n"
          ]
        }
      ]
    },
    {
      "cell_type": "markdown",
      "source": [],
      "metadata": {
        "id": "p8f9lKz-tHOZ"
      }
    },
    {
      "cell_type": "code",
      "source": [
        "a = True + 4            # true =1 \n",
        "b = False + 10          #false = 0\n",
        "c = None               # not given value yet but defined \n",
        "print(\"a:\", a)\n",
        "print(\"b:\", b)\n",
        "print(c)"
      ],
      "metadata": {
        "id": "iz8JaHi_tIhb",
        "colab": {
          "base_uri": "https://localhost:8080/"
        },
        "outputId": "1fafd653-d295-4d46-a81f-116e1beb3bb7"
      },
      "execution_count": null,
      "outputs": [
        {
          "output_type": "stream",
          "name": "stdout",
          "text": [
            "a: 5\n",
            "b: 10\n",
            "None\n"
          ]
        }
      ]
    },
    {
      "cell_type": "code",
      "source": [
        "a = 0b1010 #Binary Literals\n",
        "b = 100 #Decimal Literal \n",
        "c = 0o310 #Octal Literal\n",
        "d = 0x12c #Hexadecimal Literal\n",
        "\n",
        "#Float Literal\n",
        "float_1 = 10.5 \n",
        "float_2 = 1.5e2 # 1.5 * 10^2\n",
        "float_3 = 1.5e-3 # 1.5 * 10^-3\n",
        "\n",
        "#Complex Literal \n",
        "x = 3.14j\n",
        "\n",
        "print(a, b, c, d)\n",
        "print(float_1, float_2,float_3)\n",
        "print(x, x.imag, x.real ,sep='-') #sep = seperates using anything after ="
      ],
      "metadata": {
        "colab": {
          "base_uri": "https://localhost:8080/"
        },
        "id": "psMowSMLWguK",
        "outputId": "7df8fd79-74b5-4e94-bacd-1f029272e5f2"
      },
      "execution_count": null,
      "outputs": [
        {
          "output_type": "stream",
          "name": "stdout",
          "text": [
            "10 100 200 300\n",
            "10.5 150.0 0.0015\n",
            "3.14j-3.14-0.0\n"
          ]
        }
      ]
    },
    {
      "cell_type": "code",
      "source": [
        "# Bitwise Operators\n",
        "\n",
        "# bitwise and\n",
        "print(2 & 3)\n",
        "\n",
        "# bitwise or\n",
        "print(2 | 3)\n",
        "\n",
        "# bitwise xor\n",
        "print(2 ^ 3)\n",
        "\n",
        "print(~3)\n",
        "\n",
        "print(4 >> 2) #right shift\n",
        "\n",
        "print(5 << 2) # left shift"
      ],
      "metadata": {
        "colab": {
          "base_uri": "https://localhost:8080/"
        },
        "id": "frRFmpB4WznH",
        "outputId": "54d68906-bc65-4018-e214-e1fb1397dc93"
      },
      "execution_count": null,
      "outputs": [
        {
          "output_type": "stream",
          "name": "stdout",
          "text": [
            "2\n",
            "3\n",
            "1\n",
            "-4\n",
            "1\n",
            "20\n"
          ]
        }
      ]
    },
    {
      "cell_type": "code",
      "source": [
        "# Assignment Operators\n",
        "\n",
        "# = \n",
        "# a = 2\n",
        "\n",
        "a = 2\n",
        "\n",
        "# a = a % 2\n",
        "a %= 2\n",
        "\n",
        "# a++ ++a\n",
        "\n",
        "print(a)"
      ],
      "metadata": {
        "colab": {
          "base_uri": "https://localhost:8080/"
        },
        "id": "ru9dS6BIxBLd",
        "outputId": "781d3d07-9ccf-46ca-effc-3f6012efc481"
      },
      "execution_count": null,
      "outputs": [
        {
          "output_type": "stream",
          "name": "stdout",
          "text": [
            "0\n"
          ]
        }
      ]
    },
    {
      "cell_type": "code",
      "source": [
        "# Membership Operators\n",
        "\n",
        "# in/not in list/string/dict/set without looping\n",
        "\n",
        "print('D' not in 'Delhi')\n",
        "\n",
        "print(1 in [2,3,4,5,6])\n",
        "\n",
        "print(4 in {5,3,4,2})"
      ],
      "metadata": {
        "colab": {
          "base_uri": "https://localhost:8080/"
        },
        "id": "SLYvZJ4hx4GA",
        "outputId": "0056b7c0-6c93-4908-f04f-06b3bd734067"
      },
      "execution_count": null,
      "outputs": [
        {
          "output_type": "stream",
          "name": "stdout",
          "text": [
            "False\n",
            "False\n",
            "True\n"
          ]
        }
      ]
    },
    {
      "cell_type": "code",
      "source": [
        "# Program - Find the sum of a 3 digit number entered by the user\n",
        "\n",
        "number = int(input('Enter a 3 digit number'))\n",
        "\n",
        "# 345%10 -> 5\n",
        "a = number%10\n",
        "\n",
        "number = number//10   #// is floor division which gives quotient unlike % giving remainder\n",
        "\n",
        "# 34%10 -> 4\n",
        "b = number % 10\n",
        "\n",
        "number = number//10         #also known as math.floor()\n",
        "# 3 % 10 -> 3\n",
        "c = number % 10\n",
        "\n",
        "print(a + b + c)"
      ],
      "metadata": {
        "colab": {
          "base_uri": "https://localhost:8080/"
        },
        "id": "ZR9S7kpjyQOs",
        "outputId": "349c2839-b2f9-44ce-b340-4fa37aab9ecc"
      },
      "execution_count": null,
      "outputs": [
        {
          "output_type": "stream",
          "name": "stdout",
          "text": [
            "Enter a 3 digit number324\n",
            "9\n"
          ]
        }
      ]
    },
    {
      "cell_type": "code",
      "source": [
        "a = int(input(\"Give 3 numbers:\"))\n",
        "b = int(input())\n",
        "\n",
        "c = int(input())\n",
        "56\n",
        "if a > b :\n",
        "  if a > c:\n",
        "   print('greatest number is :', a)\n",
        "  else :\n",
        "    print('greatest no is:', c)\n",
        "else:\n",
        "  if b > c:\n",
        "     print('greatest number is :', b)\n",
        "  else:\n",
        "     print('greatest number is :', c)"
      ],
      "metadata": {
        "colab": {
          "base_uri": "https://localhost:8080/"
        },
        "id": "FRRohm8s0-zB",
        "outputId": "0d0edd43-148d-4f9d-f430-d127b5f05f29"
      },
      "execution_count": null,
      "outputs": [
        {
          "output_type": "stream",
          "name": "stdout",
          "text": [
            "Give 3 numbers:43\n",
            "23\n",
            "55\n",
            "greatest no is: 55\n"
          ]
        }
      ]
    },
    {
      "cell_type": "code",
      "source": [
        "help('modules') # all modules get shown ;;;; Also u can type module. to see all func in module"
      ],
      "metadata": {
        "id": "0tmWkwJB46GS"
      },
      "execution_count": null,
      "outputs": []
    },
    {
      "cell_type": "markdown",
      "source": [
        "**using while loop**\n",
        "\n"
      ],
      "metadata": {
        "id": "FMd3zQZ4-_Fk"
      }
    },
    {
      "cell_type": "code",
      "source": [
        "pop = 10000        #hitagi yay\n",
        "count = 0\n",
        "while count <= 10:\n",
        "  print('Population after '+str(count)+' years is '+str(pop*1.1))\n",
        "  count+=1   \n",
        "  pop=pop*1.1  #new pop after every loop, we can have 2 counters"
      ],
      "metadata": {
        "colab": {
          "base_uri": "https://localhost:8080/"
        },
        "id": "TMBAGVA65QAh",
        "outputId": "c6d14a75-2ac8-4b6e-c5f4-ed5c726f894f"
      },
      "execution_count": null,
      "outputs": [
        {
          "output_type": "stream",
          "name": "stdout",
          "text": [
            "Population after 0 years is 11000.0\n",
            "Population after 1 years is 12100.000000000002\n",
            "Population after 2 years is 13310.000000000004\n",
            "Population after 3 years is 14641.000000000005\n",
            "Population after 4 years is 16105.100000000008\n",
            "Population after 5 years is 17715.61000000001\n",
            "Population after 6 years is 19487.171000000013\n",
            "Population after 7 years is 21435.888100000015\n",
            "Population after 8 years is 23579.47691000002\n",
            "Population after 9 years is 25937.424601000024\n",
            "Population after 10 years is 28531.16706110003\n"
          ]
        }
      ]
    },
    {
      "cell_type": "code",
      "source": [
        "pop = 10000        #hitagi yay yay\n",
        "for count in range(1,11):\n",
        "  print('Population after '+str(count)+' years is '+str(pop*1.1))               #u can also run for loop without range for dict,set,list,tup\n",
        "  pop=pop*1.1  "
      ],
      "metadata": {
        "colab": {
          "base_uri": "https://localhost:8080/"
        },
        "id": "EWCMYDV3caf5",
        "outputId": "f588658b-1bfc-4e26-dce8-79bd8c3b6dd8"
      },
      "execution_count": null,
      "outputs": [
        {
          "output_type": "stream",
          "name": "stdout",
          "text": [
            "Population after 1 years is 11000.0\n",
            "Population after 2 years is 12100.000000000002\n",
            "Population after 3 years is 13310.000000000004\n",
            "Population after 4 years is 14641.000000000005\n",
            "Population after 5 years is 16105.100000000008\n",
            "Population after 6 years is 17715.61000000001\n",
            "Population after 7 years is 19487.171000000013\n",
            "Population after 8 years is 21435.888100000015\n",
            "Population after 9 years is 23579.47691000002\n",
            "Population after 10 years is 25937.424601000024\n"
          ]
        }
      ]
    },
    {
      "cell_type": "code",
      "source": [
        "for i in range (1,10):"
      ],
      "metadata": {
        "id": "cLk1mf62f8m4"
      },
      "execution_count": null,
      "outputs": []
    },
    {
      "cell_type": "code",
      "source": [],
      "metadata": {
        "id": "GHiIOBj-8kZV"
      },
      "execution_count": null,
      "outputs": []
    },
    {
      "cell_type": "code",
      "source": [
        "for i in range (2,11,3):\n",
        "  print(i)                                      #interval of 3"
      ],
      "metadata": {
        "colab": {
          "base_uri": "https://localhost:8080/"
        },
        "id": "JESU0zFmdOgG",
        "outputId": "99130403-853f-43fa-bbb4-226d2b0ed5ab"
      },
      "execution_count": null,
      "outputs": [
        {
          "output_type": "stream",
          "name": "stdout",
          "text": [
            "2\n",
            "5\n",
            "8\n"
          ]
        }
      ]
    },
    {
      "cell_type": "code",
      "source": [
        "for i in range(10,0,-2):\n",
        "  print(i**2)                               #only 10,0 wont work;giving interval of -1 will \n"
      ],
      "metadata": {
        "colab": {
          "base_uri": "https://localhost:8080/"
        },
        "id": "ht43ftqmdacB",
        "outputId": "7213b3d1-36b9-484b-bab5-8903487c554b"
      },
      "execution_count": null,
      "outputs": [
        {
          "output_type": "stream",
          "name": "stdout",
          "text": [
            "100\n",
            "64\n",
            "36\n",
            "16\n",
            "4\n"
          ]
        }
      ]
    },
    {
      "cell_type": "markdown",
      "source": [
        "#NESTED LOOP KARDE pls\n",
        "\n",
        "do palindrome and star pass,continue"
      ],
      "metadata": {
        "id": "mhHiQjT9-0sN"
      }
    },
    {
      "cell_type": "code",
      "source": [
        "# code here\n",
        "\n",
        "rows = int(input('enter number of rows'))\n",
        "\n",
        "for i in range(1,rows+1):\n",
        "  for j in range(1,i+1):\n",
        "    print('*',end='')\n",
        "  print()\n"
      ],
      "metadata": {
        "colab": {
          "base_uri": "https://localhost:8080/"
        },
        "id": "r7nDM0JfDIaH",
        "outputId": "5ce9722f-f531-4166-ea36-428e2264a28b"
      },
      "execution_count": null,
      "outputs": [
        {
          "output_type": "stream",
          "name": "stdout",
          "text": [
            "enter number of rows3\n",
            "*\n",
            "**\n",
            "***\n"
          ]
        }
      ]
    },
    {
      "cell_type": "code",
      "source": [
        "# Code here\n",
        "rows = int(input('enter number of rows'))\n",
        "\n",
        "for i in range(1,rows+1):\n",
        "  for j in range(1,i+1):\n",
        "    print(j,end='')\n",
        "  for k in range(i-1,0,-1):\n",
        "    print(k,end='')\n",
        "\n",
        "  print()\n"
      ],
      "metadata": {
        "colab": {
          "base_uri": "https://localhost:8080/"
        },
        "id": "K5SqV4XvDLnP",
        "outputId": "527dfb41-8f71-4679-eb1e-42ba5229084d"
      },
      "execution_count": null,
      "outputs": [
        {
          "output_type": "stream",
          "name": "stdout",
          "text": [
            "enter number of rows5\n",
            "1\n",
            "121\n",
            "12321\n",
            "1234321\n",
            "123454321\n"
          ]
        }
      ]
    },
    {
      "cell_type": "code",
      "source": [],
      "metadata": {
        "id": "hCuCEp2WDQt2"
      },
      "execution_count": null,
      "outputs": []
    },
    {
      "cell_type": "markdown",
      "source": [
        "prime between 2 using break"
      ],
      "metadata": {
        "id": "NEHXFaJYBQQ2"
      }
    },
    {
      "cell_type": "code",
      "source": [
        "\n",
        "lower = int(input('Give lower input:'))\n",
        "upper = int(input('Give upper input:'))           #no need to put print inside input; it will give none\n",
        "\n",
        "for i in range (lower,upper+1):\n",
        "  for j in range(2,i):\n",
        "    if i%j == 0:\n",
        "      break\n",
        "  else:\n",
        "    print(i)\n",
        "\n",
        "   \n"
      ],
      "metadata": {
        "colab": {
          "base_uri": "https://localhost:8080/"
        },
        "id": "5mVfpF2_8la1",
        "outputId": "cb128c6b-184d-42ec-e05c-3e5604841260"
      },
      "execution_count": null,
      "outputs": [
        {
          "output_type": "stream",
          "name": "stdout",
          "text": [
            "Give lower input:34\n",
            "Give upper input:59\n",
            "37\n",
            "41\n",
            "43\n",
            "47\n",
            "53\n",
            "59\n"
          ]
        }
      ]
    },
    {
      "cell_type": "markdown",
      "source": [
        "String enjoyer"
      ],
      "metadata": {
        "id": "mUH_a4OYDXcn"
      }
    },
    {
      "cell_type": "code",
      "source": [
        "s = \"string is based of characters and nigga\"\n",
        "print(s[0])\n",
        "print(s[-4])          #positive and negative indexing of strings\n",
        "print(s[3:6])        #slicing\n",
        "print(s[3:8:2])      #interval of 2 from 4th to 8\n",
        "print(s[10:2:-2])    #interval of 2 in reverse from 11th\n",
        "\n",
        "\n",
        "print(s[::-1])       #string reversal"
      ],
      "metadata": {
        "colab": {
          "base_uri": "https://localhost:8080/"
        },
        "id": "5I37gYI7Btiz",
        "outputId": "f572a7a7-9a08-4df1-fd57-20bb93b5bf85"
      },
      "execution_count": null,
      "outputs": [
        {
          "output_type": "stream",
          "name": "stdout",
          "text": [
            "s\n",
            "i\n",
            "ing\n",
            "igi\n",
            "bs n\n",
            "aggin dna sretcarahc fo desab si gnirts\n"
          ]
        }
      ]
    },
    {
      "cell_type": "markdown",
      "source": [
        "IMPORTANT!!!"
      ],
      "metadata": {
        "id": "1ybw_PrVGSGV"
      }
    },
    {
      "cell_type": "code",
      "source": [
        " s = 'hello world'\n",
        "del s\n",
        "print(s)                                   # Python strings are immutable\n",
        "  \n",
        "                                           # they can only be deleted as a whole \n",
        "                                           #but not sliced and removed"
      ],
      "metadata": {
        "colab": {
          "base_uri": "https://localhost:8080/",
          "height": 235
        },
        "id": "RzqYHvBNDt4j",
        "outputId": "fe4861d3-4962-4ff6-bafb-65d4cb81b8f2"
      },
      "execution_count": null,
      "outputs": [
        {
          "output_type": "error",
          "ename": "NameError",
          "evalue": "ignored",
          "traceback": [
            "\u001b[0;31m---------------------------------------------------------------------------\u001b[0m",
            "\u001b[0;31mNameError\u001b[0m                                 Traceback (most recent call last)",
            "\u001b[0;32m<ipython-input-69-e4f1ec9eb6d0>\u001b[0m in \u001b[0;36m<module>\u001b[0;34m\u001b[0m\n\u001b[1;32m      1\u001b[0m \u001b[0ms\u001b[0m \u001b[0;34m=\u001b[0m \u001b[0;34m'hello world'\u001b[0m\u001b[0;34m\u001b[0m\u001b[0;34m\u001b[0m\u001b[0m\n\u001b[1;32m      2\u001b[0m \u001b[0;32mdel\u001b[0m \u001b[0ms\u001b[0m\u001b[0;34m\u001b[0m\u001b[0;34m\u001b[0m\u001b[0m\n\u001b[0;32m----> 3\u001b[0;31m \u001b[0mprint\u001b[0m\u001b[0;34m(\u001b[0m\u001b[0ms\u001b[0m\u001b[0;34m)\u001b[0m                                          \u001b[0;31m# Python strings are immutable\u001b[0m\u001b[0;34m\u001b[0m\u001b[0;34m\u001b[0m\u001b[0m\n\u001b[0m\u001b[1;32m      4\u001b[0m                                           \u001b[0;31m# they can only be deleted as a whole\u001b[0m\u001b[0;34m\u001b[0m\u001b[0;34m\u001b[0m\u001b[0;34m\u001b[0m\u001b[0m\n\u001b[1;32m      5\u001b[0m                                           \u001b[0;31m#but not sliced and removed\u001b[0m\u001b[0;34m\u001b[0m\u001b[0;34m\u001b[0m\u001b[0;34m\u001b[0m\u001b[0m\n",
            "\u001b[0;31mNameError\u001b[0m: name 's' is not defined"
          ]
        }
      ]
    },
    {
      "cell_type": "code",
      "source": [
        "h = int(input('print hour hand '))\n",
        "m = int(input('print minute hand '))                          #Amazing gameplay by cp\n",
        "\n",
        "while h > 12 or m > 60:\n",
        "  print('error try again')\n",
        "  h = int(input('print h value '))\n",
        "  m = int(input('print m value '))\n",
        "  break\n",
        "\n",
        "Hx = h*30 \n",
        "Mx = m*6\n",
        "\n",
        "angle = abs((Hx - Mx))%360\n",
        "\n",
        "print('The angle between then is ', str(angle))\n",
        "\n"
      ],
      "metadata": {
        "id": "k4geV4KjGQk4",
        "colab": {
          "base_uri": "https://localhost:8080/"
        },
        "outputId": "2b99e6e5-9192-4f87-e59a-e234538223c7"
      },
      "execution_count": null,
      "outputs": [
        {
          "output_type": "stream",
          "name": "stdout",
          "text": [
            "print hour hand 12\n",
            "print minute hand 40\n",
            "The angle between then is  120\n"
          ]
        }
      ]
    },
    {
      "cell_type": "code",
      "source": [],
      "metadata": {
        "id": "1ZqhyC43XGtS"
      },
      "execution_count": null,
      "outputs": []
    },
    {
      "cell_type": "code",
      "source": [
        "s = input('give no')\n",
        "x = 0\n",
        "for i in s :\n",
        "  x = x + int(i)**3\n",
        "print(x)\n",
        "\n",
        "if x == int(s):                                               #use == when if else\n",
        "  print('yes its an amstrong no.')\n",
        "else:\n",
        "  print('no its not an armstrong no.')\n",
        "\n",
        "  "
      ],
      "metadata": {
        "id": "PZuI67pm5jCT",
        "outputId": "fff47fdf-4fcc-4287-a518-dcdae1e3dfd6",
        "colab": {
          "base_uri": "https://localhost:8080/"
        }
      },
      "execution_count": null,
      "outputs": [
        {
          "output_type": "stream",
          "name": "stdout",
          "text": [
            "give no371\n",
            "371\n",
            "yes its an amstrong no.\n"
          ]
        }
      ]
    },
    {
      "cell_type": "code",
      "source": [
        "'my name is chirag'.endswith('sho')\n",
        "\n",
        "\n"
      ],
      "metadata": {
        "colab": {
          "base_uri": "https://localhost:8080/"
        },
        "id": "T0e83iDwbrIR",
        "outputId": "da469500-3453-4eb0-f6fd-a8d12cadc28c"
      },
      "execution_count": null,
      "outputs": [
        {
          "output_type": "execute_result",
          "data": {
            "text/plain": [
              "False"
            ]
          },
          "metadata": {},
          "execution_count": 4
        }
      ]
    },
    {
      "cell_type": "code",
      "source": [
        "'my name is oip'.startswith('my na')"
      ],
      "metadata": {
        "colab": {
          "base_uri": "https://localhost:8080/"
        },
        "id": "FFbEeMbzXvg-",
        "outputId": "70e96eb5-e9d0-45c0-9a03-47121d02096d"
      },
      "execution_count": null,
      "outputs": [
        {
          "output_type": "execute_result",
          "data": {
            "text/plain": [
              "True"
            ]
          },
          "metadata": {},
          "execution_count": 3
        }
      ]
    },
    {
      "cell_type": "markdown",
      "source": [
        "Format\n",
        "\n"
      ],
      "metadata": {
        "id": "UxqT3564Xz-L"
      }
    },
    {
      "cell_type": "code",
      "source": [
        "name = 'cg8'\n",
        "gender = 'male'\n",
        "9\n",
        "'Hi my name is {1} and I am a {0}'.format(gender,name)"
      ],
      "metadata": {
        "colab": {
          "base_uri": "https://localhost:8080/",
          "height": 35
        },
        "id": "hPH5V_kmXmXa",
        "outputId": "1b8bcd1d-2029-4c48-f877-a458ff2869b0"
      },
      "execution_count": null,
      "outputs": [
        {
          "output_type": "execute_result",
          "data": {
            "text/plain": [
              "'Hi my name is cg8 and I am a male'"
            ],
            "application/vnd.google.colaboratory.intrinsic+json": {
              "type": "string"
            }
          },
          "metadata": {},
          "execution_count": 2
        }
      ]
    },
    {
      "cell_type": "code",
      "source": [
        "sorted('hello world',reverse=True)  #bruh"
      ],
      "metadata": {
        "colab": {
          "base_uri": "https://localhost:8080/"
        },
        "id": "9lRiXWLNX4n_",
        "outputId": "dc56abd5-f07d-496d-b4d0-a1a0aa8349e0"
      },
      "execution_count": null,
      "outputs": [
        {
          "output_type": "execute_result",
          "data": {
            "text/plain": [
              "['w', 'r', 'o', 'o', 'l', 'l', 'l', 'h', 'e', 'd', ' ']"
            ]
          },
          "metadata": {},
          "execution_count": 6
        }
      ]
    },
    {
      "cell_type": "markdown",
      "source": [
        ".title() first letter of each word caps \n",
        "\n",
        ".upper , lower.() for cases and swapcase() \n",
        "**reverses the cap cases**\n",
        "\n",
        "\n"
      ],
      "metadata": {
        "id": "HcdzzkO8Ybx9"
      }
    },
    {
      "cell_type": "code",
      "source": [
        "'my name is nitish'.index('h') "
      ],
      "metadata": {
        "colab": {
          "base_uri": "https://localhost:8080/"
        },
        "id": "sioMxDRyZZyL",
        "outputId": "99155b0e-60bb-4fcf-d04f-039b288786a1"
      },
      "execution_count": null,
      "outputs": [
        {
          "output_type": "execute_result",
          "data": {
            "text/plain": [
              "16"
            ]
          },
          "metadata": {},
          "execution_count": 11
        }
      ]
    },
    {
      "cell_type": "code",
      "source": [
        "'my name is nitish'.find('x')  ##not found\n",
        "\n"
      ],
      "metadata": {
        "colab": {
          "base_uri": "https://localhost:8080/"
        },
        "id": "pNVbPQtxZRAB",
        "outputId": "1f2aa60f-c497-4314-8fa2-996329fe5dce"
      },
      "execution_count": null,
      "outputs": [
        {
          "output_type": "execute_result",
          "data": {
            "text/plain": [
              "-1"
            ]
          },
          "metadata": {},
          "execution_count": 9
        }
      ]
    },
    {
      "cell_type": "code",
      "source": [
        "'my name is nitish'.count('i')\n",
        "\n"
      ],
      "metadata": {
        "colab": {
          "base_uri": "https://localhost:8080/"
        },
        "id": "lwN9UyCAYNuT",
        "outputId": "2ce8431d-88ae-48d8-9e0b-f64cc49e7c63"
      },
      "execution_count": null,
      "outputs": [
        {
          "output_type": "execute_result",
          "data": {
            "text/plain": [
              "3"
            ]
          },
          "metadata": {},
          "execution_count": 10
        }
      ]
    },
    {
      "cell_type": "markdown",
      "source": [
        "#join , split,replace, strip"
      ],
      "metadata": {
        "id": "dKQcZ0eRZ3YH"
      }
    },
    {
      "cell_type": "code",
      "source": [
        "\"-\".join(['hi', 'my', 'name', 'is', 'nitish'])  "
      ],
      "metadata": {
        "colab": {
          "base_uri": "https://localhost:8080/",
          "height": 35
        },
        "id": "7kUdQw7BZvl2",
        "outputId": "482d7cd0-cab4-4841-c68a-4be7e84ae7a6"
      },
      "execution_count": null,
      "outputs": [
        {
          "output_type": "execute_result",
          "data": {
            "text/plain": [
              "'hi-my-name-is-nitish'"
            ],
            "application/vnd.google.colaboratory.intrinsic+json": {
              "type": "string"
            }
          },
          "metadata": {},
          "execution_count": 13
        }
      ]
    },
    {
      "cell_type": "code",
      "source": [
        "'chirag is a nigg                         '.strip()"
      ],
      "metadata": {
        "colab": {
          "base_uri": "https://localhost:8080/",
          "height": 35
        },
        "id": "yLoDv7NnZwZO",
        "outputId": "eb31f6e6-a7f4-4429-de1e-95b4d62aebd7"
      },
      "execution_count": null,
      "outputs": [
        {
          "output_type": "execute_result",
          "data": {
            "text/plain": [
              "'chirag is a nigg'"
            ],
            "application/vnd.google.colaboratory.intrinsic+json": {
              "type": "string"
            }
          },
          "metadata": {},
          "execution_count": 15
        }
      ]
    },
    {
      "cell_type": "code",
      "source": [
        "'hi my name is chig'.replace('chig','89')\n",
        "'hi my name is hu'.replace('chig','89') #repeats if not found\n",
        "\n"
      ],
      "metadata": {
        "colab": {
          "base_uri": "https://localhost:8080/",
          "height": 35
        },
        "id": "dGZaaLWZZclp",
        "outputId": "490c3df8-7253-4b23-e696-ffec90368b89"
      },
      "execution_count": null,
      "outputs": [
        {
          "output_type": "execute_result",
          "data": {
            "text/plain": [
              "'hi my name is hu'"
            ],
            "application/vnd.google.colaboratory.intrinsic+json": {
              "type": "string"
            }
          },
          "metadata": {},
          "execution_count": 17
        }
      ]
    },
    {
      "cell_type": "code",
      "source": [
        "'this dude is boycotted'.split(' ')"
      ],
      "metadata": {
        "colab": {
          "base_uri": "https://localhost:8080/"
        },
        "id": "i87EGOFVaWb2",
        "outputId": "412e1865-bc06-4ef6-dd51-c7c80764a2cc"
      },
      "execution_count": null,
      "outputs": [
        {
          "output_type": "execute_result",
          "data": {
            "text/plain": [
              "['this', 'dude', 'is', 'boycotted']"
            ]
          },
          "metadata": {},
          "execution_count": 18
        }
      ]
    },
    {
      "cell_type": "code",
      "source": [
        "ma"
      ],
      "metadata": {
        "id": "Stma7oLFbP5i"
      },
      "execution_count": null,
      "outputs": []
    },
    {
      "cell_type": "markdown",
      "source": [
        "map performs operations on all items of list while filter removes based on conditions\n",
        "\n",
        ";reduce takes 2 values and keeps comparing items until last\n"
      ],
      "metadata": {
        "id": "cQlrJ5TOohnC"
      }
    },
    {
      "cell_type": "markdown",
      "source": [
        "#append,index,questions to do"
      ],
      "metadata": {
        "id": "b_O1BmIPbWPS"
      }
    },
    {
      "cell_type": "code",
      "source": [],
      "metadata": {
        "colab": {
          "base_uri": "https://localhost:8080/",
          "height": 183
        },
        "id": "WAkDrLciapS8",
        "outputId": "c289b285-2aff-4333-e6ce-49487dc22447"
      },
      "execution_count": null,
      "outputs": [
        {
          "output_type": "error",
          "ename": "AttributeError",
          "evalue": "ignored",
          "traceback": [
            "\u001b[0;31m---------------------------------------------------------------------------\u001b[0m",
            "\u001b[0;31mAttributeError\u001b[0m                            Traceback (most recent call last)",
            "\u001b[0;32m<ipython-input-19-dc21fa3e1c1c>\u001b[0m in \u001b[0;36m<module>\u001b[0;34m\u001b[0m\n\u001b[1;32m      1\u001b[0m \u001b[0ml\u001b[0m \u001b[0;34m=\u001b[0m \u001b[0;34m'try'\u001b[0m\u001b[0;34m\u001b[0m\u001b[0;34m\u001b[0m\u001b[0m\n\u001b[0;32m----> 2\u001b[0;31m \u001b[0ml\u001b[0m\u001b[0;34m.\u001b[0m\u001b[0mappend\u001b[0m\u001b[0;34m(\u001b[0m\u001b[0;34m'me '\u001b[0m\u001b[0;34m)\u001b[0m\u001b[0;34m\u001b[0m\u001b[0;34m\u001b[0m\u001b[0m\n\u001b[0m",
            "\u001b[0;31mAttributeError\u001b[0m: 'str' object has no attribute 'append'"
          ]
        }
      ]
    }
  ]
}