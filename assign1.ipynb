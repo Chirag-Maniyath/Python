{
 "cells": [
  {
   "cell_type": "code",
   "execution_count": 1,
   "id": "44354d20-e953-4ff7-a721-698153cb5422",
   "metadata": {},
   "outputs": [],
   "source": [
    "# (i) String\n",
    "my_string = \"Hello, World!\"\n",
    "\n",
    "# (ii) List\n",
    "my_list = [1, 2, 3, 4, 5]\n",
    "\n",
    "# (iii) Float\n",
    "my_float = 3.14159\n",
    "\n",
    "# (iv) Tuple\n",
    "my_tuple = (10, 20, 30, 40, 50)\n"
   ]
  },
  {
   "cell_type": "code",
   "execution_count": 3,
   "id": "621e0e96-2e61-47a2-9e4c-6c2d7cf1dd42",
   "metadata": {},
   "outputs": [
    {
     "name": "stdout",
     "output_type": "stream",
     "text": [
      "<class 'str'>\n",
      "<class 'str'>\n",
      "<class 'list'>\n",
      "<class 'int'>\n"
     ]
    }
   ],
   "source": [
    "\n",
    "var1 = ' '\n",
    "print(type(var1))  # Output: <class 'str'>\n",
    "\n",
    "var2 = '[ DS , ML , Python]'\n",
    "print(type(var2))  # Output: <class 'str'>\n",
    "\n",
    "var3 = ['DS', 'ML', 'Python']\n",
    "print(type(var3))  # Output: <class 'list'>\n",
    "\n",
    "var4 = 1\n",
    "print(type(var4))  # Output: <class 'int'>\n"
   ]
  },
  {
   "cell_type": "code",
   "execution_count": 4,
   "id": "2c43e973-69f0-4b07-9d3e-9ee83985fcf1",
   "metadata": {},
   "outputs": [
    {
     "name": "stdout",
     "output_type": "stream",
     "text": [
      "Division Result: 3.3333333333333335\n",
      "Remainder: 1\n",
      "Floor Division Result: 3\n",
      "Exponentiation Result: 8\n"
     ]
    }
   ],
   "source": [
    "a = 10\n",
    "b = 3\n",
    "result_division = a / b\n",
    "print(\"Division Result:\", result_division)  # Output: 3.3333333333333335\n",
    "\n",
    "a = 10\n",
    "b = 3\n",
    "remainder = a % b\n",
    "print(\"Remainder:\", remainder)  # Output: 1\n",
    "\n",
    "a = 10\n",
    "b = 3\n",
    "result_floor_division = a // b\n",
    "print(\"Floor Division Result:\", result_floor_division)  # Output: 3\n",
    "\n",
    "base = 2\n",
    "exponent = 3\n",
    "result_exponentiation = base ** exponent\n",
    "print(\"Exponentiation Result:\", result_exponentiation)  # Output: 8\n"
   ]
  },
  {
   "cell_type": "code",
   "execution_count": 5,
   "id": "07f3ecb9-9ec6-4523-83ec-034a6c99f8a6",
   "metadata": {},
   "outputs": [
    {
     "name": "stdout",
     "output_type": "stream",
     "text": [
      "Element: 102\n",
      "Data Type: <class 'int'>\n",
      "\n",
      "Element: Hello\n",
      "Data Type: <class 'str'>\n",
      "\n",
      "Element: 3.142\n",
      "Data Type: <class 'float'>\n",
      "\n",
      "Element: True\n",
      "Data Type: <class 'bool'>\n",
      "\n",
      "Element: [11, 21, 3]\n",
      "Data Type: <class 'list'>\n",
      "\n",
      "Element: {'name': 'John', 'street_no': 25}\n",
      "Data Type: <class 'dict'>\n",
      "\n",
      "Element: None\n",
      "Data Type: <class 'NoneType'>\n",
      "\n",
      "Element: (1, 2, 3)\n",
      "Data Type: <class 'tuple'>\n",
      "\n",
      "Element: A\n",
      "Data Type: <class 'str'>\n",
      "\n",
      "Element: False\n",
      "Data Type: <class 'bool'>\n",
      "\n"
     ]
    }
   ],
   "source": [
    "#4\n",
    "my_list = [102, \"Hello\", 3.142, True, [11, 21, 3], {\"name\": \"John\", \"street_no\": 25}, None, (1, 2, 3), 'A', False]\n",
    "\n",
    "for element in my_list:\n",
    "    print(\"Element:\", element)\n",
    "    print(\"Data Type:\", type(element))\n",
    "    print()\n"
   ]
  },
  {
   "cell_type": "code",
   "execution_count": 7,
   "id": "f0e5be70-6c6a-4b76-bd5c-27cb582805eb",
   "metadata": {},
   "outputs": [
    {
     "name": "stdout",
     "output_type": "stream",
     "text": [
      "A is divisible by B 2 times\n"
     ]
    }
   ],
   "source": [
    "A = 200\n",
    "B = 10\n",
    "count = 0\n",
    "\n",
    "while A % B == 0:\n",
    "    A = A // B\n",
    "    count += 1\n",
    "\n",
    "print(\"A is divisible by B\", count, \"times\")\n"
   ]
  },
  {
   "cell_type": "code",
   "execution_count": 8,
   "id": "994f4da5-f735-4501-a97a-28b6ddb80ed7",
   "metadata": {},
   "outputs": [
    {
     "name": "stdout",
     "output_type": "stream",
     "text": [
      "1 =is not divisible by 3\n",
      "2 =is not divisible by 3\n",
      "3 =is divisible by 3\n",
      "4 =is not divisible by 3\n",
      "5 =is not divisible by 3\n",
      "6 =is divisible by 3\n",
      "7 =is not divisible by 3\n",
      "8 =is not divisible by 3\n",
      "9 =is divisible by 3\n",
      "10 =is not divisible by 3\n",
      "11 =is not divisible by 3\n",
      "12 =is divisible by 3\n",
      "13 =is not divisible by 3\n",
      "14 =is not divisible by 3\n",
      "15 =is divisible by 3\n",
      "16 =is not divisible by 3\n",
      "17 =is not divisible by 3\n",
      "18 =is divisible by 3\n",
      "19 =is not divisible by 3\n",
      "20 =is not divisible by 3\n",
      "21 =is divisible by 3\n",
      "22 =is not divisible by 3\n",
      "23 =is not divisible by 3\n",
      "24 =is divisible by 3\n",
      "25 =is not divisible by 3\n"
     ]
    }
   ],
   "source": [
    "my_list = list(range(1, 26))\n",
    "\n",
    "for element in my_list:\n",
    "    if element % 3 == 0:\n",
    "        print(element, \"=is divisible by 3\")\n",
    "    else:\n",
    "        print(element, \"=is not divisible by 3\")\n"
   ]
  },
  {
   "cell_type": "code",
   "execution_count": 11,
   "id": "022ad16b-3264-4d8f-aea9-12d9ed46fb7b",
   "metadata": {},
   "outputs": [
    {
     "name": "stdout",
     "output_type": "stream",
     "text": [
      "[10, 2, 3]\n",
      "{'name': 'John', 'age': 30}\n"
     ]
    },
    {
     "ename": "TypeError",
     "evalue": "'str' object does not support item assignment",
     "output_type": "error",
     "traceback": [
      "\u001b[0;31m---------------------------------------------------------------------------\u001b[0m",
      "\u001b[0;31mTypeError\u001b[0m                                 Traceback (most recent call last)",
      "Cell \u001b[0;32mIn[11], line 16\u001b[0m\n\u001b[1;32m     14\u001b[0m my_string \u001b[38;5;241m=\u001b[39m \u001b[38;5;124m\"\u001b[39m\u001b[38;5;124mHello\u001b[39m\u001b[38;5;124m\"\u001b[39m\n\u001b[1;32m     15\u001b[0m \u001b[38;5;66;03m# Attempting to modify a string raises an error\u001b[39;00m\n\u001b[0;32m---> 16\u001b[0m \u001b[43mmy_string\u001b[49m\u001b[43m[\u001b[49m\u001b[38;5;241;43m0\u001b[39;49m\u001b[43m]\u001b[49m \u001b[38;5;241m=\u001b[39m \u001b[38;5;124m'\u001b[39m\u001b[38;5;124mM\u001b[39m\u001b[38;5;124m'\u001b[39m\n",
      "\u001b[0;31mTypeError\u001b[0m: 'str' object does not support item assignment"
     ]
    }
   ],
   "source": [
    "# Mutable and Immutable Data Types\n",
    "\n",
    "# Example of a mutable data type: List\n",
    "my_list = [1, 2, 3]\n",
    "my_list[0] = 10  # Modifying the first element of the list\n",
    "print(my_list)  # Output: [10, 2, 3]\n",
    "\n",
    "# Example of a mutable data type: Dictionary\n",
    "my_dict = {\"name\": \"John\", \"age\": 25}\n",
    "my_dict[\"age\"] = 30  # Modifying the 'age' value in the dictionary\n",
    "print(my_dict)  # Output: {'name': 'John', 'age': 30}\n",
    "\n",
    "# Example of an immutable data type: String\n",
    "my_string = \"Hello\"\n",
    "\n",
    "my_string[0] = 'M' #TypeError: 'str' object does not support item assignment\n",
    "\n",
    "# Example of an immutable data type: Tuple\n",
    "tup = (1,2,3,4)\n",
    "\n",
    "#tup.append(5) = AttributeError: 'tuple' object has no attribute 'append'\n",
    "\n"
   ]
  },
  {
   "cell_type": "code",
   "execution_count": null,
   "id": "0de16ca4-f76a-436b-989e-8c5fa2d0e4f9",
   "metadata": {},
   "outputs": [],
   "source": []
  }
 ],
 "metadata": {
  "kernelspec": {
   "display_name": "Python 3 (ipykernel)",
   "language": "python",
   "name": "python3"
  },
  "language_info": {
   "codemirror_mode": {
    "name": "ipython",
    "version": 3
   },
   "file_extension": ".py",
   "mimetype": "text/x-python",
   "name": "python",
   "nbconvert_exporter": "python",
   "pygments_lexer": "ipython3",
   "version": "3.10.8"
  }
 },
 "nbformat": 4,
 "nbformat_minor": 5
}
